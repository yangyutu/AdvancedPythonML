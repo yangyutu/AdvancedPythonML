{
 "cells": [
  {
   "cell_type": "markdown",
   "metadata": {
    "toc": true
   },
   "source": [
    "<h1>Table of Contents<span class=\"tocSkip\"></span></h1>\n",
    "<div class=\"toc\"><ul class=\"toc-item\"><li><span><a href=\"#Basic-setup-and-check\" data-toc-modified-id=\"Basic-setup-and-check-1\"><span class=\"toc-item-num\">1&nbsp;&nbsp;</span>Basic setup and check</a></span><ul class=\"toc-item\"><li><ul class=\"toc-item\"><li><span><a href=\"#GPU-device-setup\" data-toc-modified-id=\"GPU-device-setup-1.0.1\"><span class=\"toc-item-num\">1.0.1&nbsp;&nbsp;</span>GPU device setup</a></span></li></ul></li></ul></li><li><span><a href=\"#Tensor-Basics\" data-toc-modified-id=\"Tensor-Basics-2\"><span class=\"toc-item-num\">2&nbsp;&nbsp;</span>Tensor Basics</a></span><ul class=\"toc-item\"><li><span><a href=\"#Creation\" data-toc-modified-id=\"Creation-2.1\"><span class=\"toc-item-num\">2.1&nbsp;&nbsp;</span>Creation</a></span><ul class=\"toc-item\"><li><span><a href=\"#Constant-tensors\" data-toc-modified-id=\"Constant-tensors-2.1.1\"><span class=\"toc-item-num\">2.1.1&nbsp;&nbsp;</span>Constant tensors</a></span></li><li><span><a href=\"#Creation-via-special-functions\" data-toc-modified-id=\"Creation-via-special-functions-2.1.2\"><span class=\"toc-item-num\">2.1.2&nbsp;&nbsp;</span>Creation via special functions</a></span></li><li><span><a href=\"#random-numbers\" data-toc-modified-id=\"random-numbers-2.1.3\"><span class=\"toc-item-num\">2.1.3&nbsp;&nbsp;</span>random numbers</a></span></li><li><span><a href=\"#Variable-tensor\" data-toc-modified-id=\"Variable-tensor-2.1.4\"><span class=\"toc-item-num\">2.1.4&nbsp;&nbsp;</span>Variable tensor</a></span></li><li><span><a href=\"#Interaction-with-numpy\" data-toc-modified-id=\"Interaction-with-numpy-2.1.5\"><span class=\"toc-item-num\">2.1.5&nbsp;&nbsp;</span>Interaction with numpy</a></span></li></ul></li><li><span><a href=\"#Tensor-Slicing\" data-toc-modified-id=\"Tensor-Slicing-2.2\"><span class=\"toc-item-num\">2.2&nbsp;&nbsp;</span>Tensor Slicing</a></span><ul class=\"toc-item\"><li><span><a href=\"#Basic-slicing\" data-toc-modified-id=\"Basic-slicing-2.2.1\"><span class=\"toc-item-num\">2.2.1&nbsp;&nbsp;</span>Basic slicing</a></span></li><li><span><a href=\"#Advanced-slicing-(extraction)\" data-toc-modified-id=\"Advanced-slicing-(extraction)-2.2.2\"><span class=\"toc-item-num\">2.2.2&nbsp;&nbsp;</span>Advanced slicing (extraction)</a></span></li><li><span><a href=\"#Advanced-slicing-(extraction-and-creation)\" data-toc-modified-id=\"Advanced-slicing-(extraction-and-creation)-2.2.3\"><span class=\"toc-item-num\">2.2.3&nbsp;&nbsp;</span>Advanced slicing (extraction and creation)</a></span></li><li><span><a href=\"#Dimension-transform\" data-toc-modified-id=\"Dimension-transform-2.2.4\"><span class=\"toc-item-num\">2.2.4&nbsp;&nbsp;</span>Dimension transform</a></span></li><li><span><a href=\"#Combining-and-Splitting\" data-toc-modified-id=\"Combining-and-Splitting-2.2.5\"><span class=\"toc-item-num\">2.2.5&nbsp;&nbsp;</span>Combining and Splitting</a></span></li><li><span><a href=\"#Splitting\" data-toc-modified-id=\"Splitting-2.2.6\"><span class=\"toc-item-num\">2.2.6&nbsp;&nbsp;</span>Splitting</a></span></li></ul></li><li><span><a href=\"#AutoDiff\" data-toc-modified-id=\"AutoDiff-2.3\"><span class=\"toc-item-num\">2.3&nbsp;&nbsp;</span>AutoDiff</a></span><ul class=\"toc-item\"><li><span><a href=\"#Calculation-of-gradient\" data-toc-modified-id=\"Calculation-of-gradient-2.3.1\"><span class=\"toc-item-num\">2.3.1&nbsp;&nbsp;</span>Calculation of gradient</a></span></li><li><span><a href=\"#Gradient-descent-example\" data-toc-modified-id=\"Gradient-descent-example-2.3.2\"><span class=\"toc-item-num\">2.3.2&nbsp;&nbsp;</span>Gradient descent example</a></span></li><li><span><a href=\"#Gradient-descent-example-(KL-divergence-example)\" data-toc-modified-id=\"Gradient-descent-example-(KL-divergence-example)-2.3.3\"><span class=\"toc-item-num\">2.3.3&nbsp;&nbsp;</span>Gradient descent example (KL divergence example)</a></span></li></ul></li></ul></li><li><span><a href=\"#Layers\" data-toc-modified-id=\"Layers-3\"><span class=\"toc-item-num\">3&nbsp;&nbsp;</span>Layers</a></span></li><li><span><a href=\"#Networks-and-model-construction\" data-toc-modified-id=\"Networks-and-model-construction-4\"><span class=\"toc-item-num\">4&nbsp;&nbsp;</span>Networks and model construction</a></span></li><li><span><a href=\"#Loss\" data-toc-modified-id=\"Loss-5\"><span class=\"toc-item-num\">5&nbsp;&nbsp;</span>Loss</a></span></li><li><span><a href=\"#Training-and-testing\" data-toc-modified-id=\"Training-and-testing-6\"><span class=\"toc-item-num\">6&nbsp;&nbsp;</span>Training and testing</a></span><ul class=\"toc-item\"><li><span><a href=\"#Learning-rate-schedules\" data-toc-modified-id=\"Learning-rate-schedules-6.1\"><span class=\"toc-item-num\">6.1&nbsp;&nbsp;</span>Learning rate schedules</a></span></li></ul></li><li><span><a href=\"#TENSORBOARD\" data-toc-modified-id=\"TENSORBOARD-7\"><span class=\"toc-item-num\">7&nbsp;&nbsp;</span>TENSORBOARD</a></span></li></ul></div>"
   ]
  },
  {
   "cell_type": "markdown",
   "metadata": {},
   "source": [
    "# Basic setup and check\n",
    "API documents https://www.tensorflow.org/versions"
   ]
  },
  {
   "cell_type": "code",
   "execution_count": 1,
   "metadata": {},
   "outputs": [
    {
     "name": "stdout",
     "output_type": "stream",
     "text": [
      "2.3.0\n"
     ]
    }
   ],
   "source": [
    "import tensorflow as tf\n",
    "\n",
    "print(tf.__version__)\n",
    "\n",
    "\n",
    "tf.random.set_seed(1.0)"
   ]
  },
  {
   "cell_type": "markdown",
   "metadata": {},
   "source": [
    "### GPU device setup"
   ]
  },
  {
   "cell_type": "code",
   "execution_count": 2,
   "metadata": {},
   "outputs": [
    {
     "name": "stdout",
     "output_type": "stream",
     "text": [
      "<function is_gpu_available at 0x000002448604AC18>\n"
     ]
    }
   ],
   "source": [
    "print(tf.test.is_gpu_available)\n",
    "gpus = tf.config.experimental.list_physical_devices('GPU')\n",
    "tf.config.experimental.set_memory_growth(gpus[0], True)"
   ]
  },
  {
   "cell_type": "markdown",
   "metadata": {},
   "source": [
    "# Tensor Basics"
   ]
  },
  {
   "cell_type": "markdown",
   "metadata": {},
   "source": [
    "## Creation\n",
    "### Constant tensors"
   ]
  },
  {
   "cell_type": "code",
   "execution_count": 4,
   "metadata": {},
   "outputs": [
    {
     "name": "stdout",
     "output_type": "stream",
     "text": [
      "True\n",
      "True\n",
      "True\n",
      "False\n",
      "tf.Tensor(\n",
      "[[1. 2.]\n",
      " [3. 4.]], shape=(2, 2), dtype=float32)\n",
      "2\n",
      "2\n",
      "tf.Tensor(\n",
      "[[[1. 2.]\n",
      "  [3. 4.]]\n",
      "\n",
      " [[5. 6.]\n",
      "  [7. 8.]]], shape=(2, 2, 2), dtype=float32)\n",
      "tf.Tensor(3, shape=(), dtype=int32)\n"
     ]
    }
   ],
   "source": [
    "import tensorflow as tf\n",
    "import numpy as np\n",
    "# scalar\n",
    "i = tf.constant(1) # tf.int32 constant\n",
    "l = tf.constant(1, dtype = tf.int64) # tf.int64 type constant\n",
    "f = tf.constant(1.23) # tf.float32 type constant\n",
    "d = tf.constant(3.14, dtype = tf.double) # tf.double type constant\n",
    "s = tf.constant(\"hello world\") # tf.string type constant\n",
    "b = tf.constant(True) # tf.bool type constant\n",
    "\n",
    "print(tf.int64 == np.int64)\n",
    "print(tf.bool == np.bool)\n",
    "print(tf.double == np.float64)\n",
    "print(tf.string == np.unicode)\n",
    "\n",
    "\n",
    "# matrix\n",
    "\n",
    "matrix = tf.constant([[1.0, 2.0], [3.0, 4.0]])\n",
    "print(matrix)\n",
    "print(matrix.shape)\n",
    "\n",
    "\n",
    "# cube\n",
    "\n",
    "tensor3 = tf.constant([[[1.0, 2.0], [3.0, 4.0]], [[5.0, 6.0], [7.0, 8.0]]])\n",
    "print(tensor3)\n",
    "print(tf.rank(tensor3))"
   ]
  },
  {
   "cell_type": "markdown",
   "metadata": {},
   "source": [
    "### Creation via special functions"
   ]
  },
  {
   "cell_type": "code",
   "execution_count": 23,
   "metadata": {},
   "outputs": [
    {
     "name": "stdout",
     "output_type": "stream",
     "text": [
      "[1 3 5 7 9]\n",
      "[0 0.0634343475 0.126868695 ... 6.15313148 6.21656609 6.28]\n",
      "[[0 0 0]\n",
      " [0 0 0]\n",
      " [0 0 0]]\n",
      "[[1 1 1]\n",
      " [1 1 1]\n",
      " [1 1 1]]\n",
      "[[0 0 0]\n",
      " [0 0 0]\n",
      " [0 0 0]]\n",
      "[[5 5]\n",
      " [5 5]\n",
      " [5 5]]\n"
     ]
    }
   ],
   "source": [
    "import tensorflow as tf\n",
    "import numpy as np \n",
    "\n",
    "b = tf.range(1,10,delta = 2)\n",
    "tf.print(b)\n",
    "\n",
    "c = tf.linspace(0.0,2*3.14,100)\n",
    "tf.print(c)\n",
    "\n",
    "d = tf.zeros([3,3])\n",
    "tf.print(d)\n",
    "\n",
    "a = tf.ones([3,3])\n",
    "b = tf.zeros_like(a,dtype= tf.float32)\n",
    "tf.print(a)\n",
    "tf.print(b)\n",
    "\n",
    "b = tf.fill([3,2],5)\n",
    "tf.print(b)\n",
    "\n",
    "# 特殊矩阵\n",
    "I = tf.eye(3,3) #单位矩阵\n",
    "tf.print(I)\n",
    "tf.print(\" \")\n",
    "t = tf.linalg.diag([1,2,3]) #对角阵\n",
    "tf.print(t)"
   ]
  },
  {
   "cell_type": "markdown",
   "metadata": {},
   "source": [
    "### random numbers"
   ]
  },
  {
   "cell_type": "code",
   "execution_count": null,
   "metadata": {},
   "outputs": [],
   "source": [
    "tf.random.set_seed(1.0)\n",
    "# uniform random numbers\n",
    "a = tf.random.uniform([5],minval=0,maxval=10)\n",
    "tf.print(a)\n",
    "\n",
    "# normal random numbers\n",
    "b = tf.random.normal([3,3],mean=0.0,stddev=1.0)\n",
    "tf.print(b)\n"
   ]
  },
  {
   "cell_type": "markdown",
   "metadata": {},
   "source": [
    "### Variable tensor\n",
    "The trainable parameters in the models are usually defined as variable tensors. The value of a constant is NOT changeable. Re-assignment creates a new space in the memory. The value of a variable is changeable through re-assigning methods such as assign, assign_add, etc."
   ]
  },
  {
   "cell_type": "code",
   "execution_count": null,
   "metadata": {},
   "outputs": [],
   "source": [
    "# The value of a constant is NOT changeable. Re-assignment creates a new space in the memory.\n",
    "c = tf.constant([1.0, 2.0])\n",
    "print(c)\n",
    "print(id(c))\n",
    "c = c + tf.constant([2.0, 3.0])\n",
    "print(c)\n",
    "print(id(c))\n",
    "\n",
    "# The value of a variable is changeable through re-assigning methods such as assign, assign_add, etc.\n",
    "v = tf.Variable([1.0, 2.0], name = \"v\")\n",
    "print(v)\n",
    "print(id(v))\n",
    "v.assign_add([1.0, 1.0])\n",
    "print(v)\n",
    "print(id(v))"
   ]
  },
  {
   "cell_type": "markdown",
   "metadata": {},
   "source": [
    "### Interaction with numpy"
   ]
  },
  {
   "cell_type": "code",
   "execution_count": 6,
   "metadata": {},
   "outputs": [
    {
     "name": "stdout",
     "output_type": "stream",
     "text": [
      "[123 456] <class 'numpy.ndarray'>\n",
      "tf.Tensor(\n",
      "[[1. 2. 3.]\n",
      " [4. 5. 6.]], shape=(2, 3), dtype=float32)\n"
     ]
    }
   ],
   "source": [
    "# convert numpy to tensor\n",
    "h = tf.constant([123, 456], dtype = tf.int32)\n",
    "h_numpy = h.numpy()\n",
    "print(h_numpy, type(h_numpy))\n",
    "\n",
    "# create a tensor from numpy\n",
    "a = np.array([[1, 2, 3], [4, 5, 6]])\n",
    "a_tf = tf.convert_to_tensor(a, np.float32)\n",
    "print(a_tf)"
   ]
  },
  {
   "cell_type": "markdown",
   "metadata": {},
   "source": [
    "## Tensor Slicing"
   ]
  },
  {
   "cell_type": "markdown",
   "metadata": {},
   "source": [
    "### Basic slicing\n",
    "\n",
    "The indexing and slicing of tensor is the same as numpy, and slicing supports default parameters and ellipsis.\n",
    "\n",
    "Data type of tf.Variable supports indexing and slicing to modify values of certain elements.\n",
    "\n",
    "For referencing a **continuous** portion of a tensor, tf.slice is recommended."
   ]
  },
  {
   "cell_type": "code",
   "execution_count": null,
   "metadata": {},
   "outputs": [],
   "source": [
    "tf.random.set_seed(3)\n",
    "t = tf.random.uniform([5, 5], minval=0, maxval=10, dtype=tf.int32)\n",
    "\n",
    "# row 0\n",
    "tf.print(t[0])\n",
    "\n",
    "# last row\n",
    "tf.print(t[-1])\n",
    "\n",
    "# Row 1 Column 3\n",
    "tf.print(t[1,3])\n",
    "tf.print(t[1][3])\n",
    "\n",
    "# From row 1 to row 3\n",
    "tf.print(t[1:4,:])\n",
    "# get a sub matrix\n",
    "tf.print(tf.slice(t,[1,0],[3,5])) #tf.slice(input,begin_vector,size_vector)\n",
    "\n",
    "# From row 1 to the last row, and from column 0 to the last but one with an increment of 2\n",
    "tf.print(t[1:4,0:4:2])\n",
    "\n",
    "\n",
    "# Variable supports modifying elements through indexing and slicing\n",
    "x = tf.Variable([[1,2], [3,4]], dtype = tf.float32)\n",
    "x[1,:].assign(tf.constant([0.0, 0.0]))\n",
    "tf.print(x)\n",
    "\n"
   ]
  },
  {
   "cell_type": "markdown",
   "metadata": {},
   "source": [
    "### Advanced slicing (extraction)\n",
    "\n",
    "For the irregular slicing shape, tf.gather, tf.gather_nd, tf.boolean_mask are recommended.\n",
    "\n",
    "The method tf.boolean_mask is powerful, it functions as both tf.gather and tf.gather_nd, and supports boolean indexing.\n",
    "\n",
    "For the purpose of creating a new tensor through modifying certain elements in an existing tensor, tf.where and tf.scatter_nd can be used."
   ]
  },
  {
   "cell_type": "code",
   "execution_count": null,
   "metadata": {},
   "outputs": [],
   "source": [
    "## 4 classes, 10 students in each class, and 7 courses for each student\n",
    "scores = tf.random.uniform((4, 10, 7), minval = 0, maxval = 100, dtype=tf.int32)\n",
    "tf.print(scores)\n",
    "\n",
    "# get the score of 0, 5, 9 students\n",
    "p = tf.gather(scores, [0, 5, 9], axis = 1)\n",
    "tf.print(p)\n",
    "\n",
    "# nested gather\n",
    "# get the socre of 0, 5, 9 students at courses 1, 3, 6\n",
    "q = tf.gather(tf.gather(scores, [0, 5, 9], axis = 1), [1, 3, 6], axis = 2)\n",
    "tf.print(q)\n",
    "\n",
    "# Extract all the grades of the 0th, 5th and 9th students in each class.\n",
    "p = tf.boolean_mask(scores,[True,False,False,False,False,\n",
    "                            True,False,False,False,True],axis=1)\n",
    "tf.print(p)\n",
    "\n",
    "# Extract all the grades of the 0th student in the 0th class, the 4th student in the 2nd class, and the 6th student in the 3rd class.\n",
    "s = tf.boolean_mask(scores,\n",
    "    [[True,False,False,False,False,False,False,False,False,False],\n",
    "     [False,False,False,False,False,False,False,False,False,False],\n",
    "     [False,False,False,False,True,False,False,False,False,False],\n",
    "     [False,False,False,False,False,False,True,False,False,False]])\n",
    "tf.print(s)\n",
    "\n",
    "# Boolean indexing using tf.boolean_mask\n",
    "\n",
    "# Find all elements that are less than 0 in the matrix\n",
    "c = tf.constant([[-1,1,-1],[2,2,-2],[3,-3,3]],dtype=tf.float32)\n",
    "tf.print(c,\"\\n\")\n",
    "\n",
    "tf.print(tf.boolean_mask(c,c<0),\"\\n\") \n",
    "tf.print(c[c<0]) # This is the syntactic sugar of boolean_mask for boolean indexing."
   ]
  },
  {
   "cell_type": "markdown",
   "metadata": {},
   "source": [
    "### Advanced slicing (extraction and creation)\n",
    "\n",
    "The methods shown above are able to extract part of the elements in the tensor, but are not able to create new tensors through modification of these elements.\n",
    "\n",
    "The method tf.where and tf.scatter_nd should be used for this purpose.\n",
    "\n",
    "tf.where is the tensor version of if; on the other hand, this method is able to find the coordinate of all the elements that statisfy certain conditions.\n",
    "\n",
    "tf.scatter_nd works in an opposite way to the method tf.gather_nd. The latter collects the elements according to the given coordinate, while the former inserts values on the given positions in an all-zero tensor with a known shape.\n",
    "\n"
   ]
  },
  {
   "cell_type": "code",
   "execution_count": 28,
   "metadata": {},
   "outputs": [
    {
     "name": "stdout",
     "output_type": "stream",
     "text": [
      "[[nan 1 nan]\n",
      " [2 2 nan]\n",
      " [3 nan 3]]\n",
      "[[0 0]\n",
      " [0 2]\n",
      " [1 2]\n",
      " [2 1]]\n",
      "[[0 1 -1]\n",
      " [2 2 -2]\n",
      " [3 0 3]]\n"
     ]
    }
   ],
   "source": [
    "# Find elements that are less than 0, create a new tensor by replacing these elements with np.nan.\n",
    "# tf.where is similar to np.where, which is the \"if\" for the tensors\n",
    "\n",
    "c = tf.constant([[-1,1,-1],[2,2,-2],[3,-3,3]],dtype=tf.float32)\n",
    "d = tf.where(c<0,tf.fill(c.shape,np.nan),c) \n",
    "tf.print(d)\n",
    "\n",
    "# The method where returns all the coordinates that satisfy the condition if there is only one argument\n",
    "indices = tf.where(c<0)\n",
    "tf.print(indices)\n",
    "\n",
    "# Create a new tensor by replacing the value of two tensor elements located at [0,0] [2,1] as 0.\n",
    "d = c - tf.scatter_nd([[0,0],[2,1]],[c[0,0],c[2,1]],c.shape)\n",
    "tf.print(d)"
   ]
  },
  {
   "cell_type": "markdown",
   "metadata": {},
   "source": [
    "### Dimension transform\n",
    "\n",
    "The functions that are related to dimension transform include tf.reshape, tf.squeeze, tf.expand_dims, tf.transpose.\n",
    "\n",
    "tf.reshape is used to alter the shape of the tensor.\n",
    "\n",
    "tf.squeeze is used to reduce the number of dimensions. When there is only one element on a certain dimension, tf.squeeze eliminates this dimension.It won't change the order of the stored elements in the memory, which is similar to tf.reshape.\n",
    "\n",
    "tf.expand_dims is used to increase the number of dimensions.\n",
    "\n",
    "tf.transpose is used to exchange the order of the dimensions.tf.transpose swaps the dimensions in the tensor; unlike tf.shape, it will change the order of the elements in the memory. tf.transpose is usually used for converting image format of storage.\n",
    "\n",
    "tf.reshape changes the shape of the tensor, but will not change the order of elements stored in the memory, thus this operation is extremely fast and reversible."
   ]
  },
  {
   "cell_type": "code",
   "execution_count": 31,
   "metadata": {},
   "outputs": [
    {
     "name": "stdout",
     "output_type": "stream",
     "text": [
      "TensorShape([1, 3, 3, 2])\n",
      "TensorShape([3, 6])\n",
      "TensorShape([3, 3, 2])\n",
      "TensorShape([1, 3, 3, 2])\n"
     ]
    }
   ],
   "source": [
    "a = tf.random.uniform(shape=[1,3,3,2],\n",
    "                      minval=0,maxval=255,dtype=tf.int32)\n",
    "tf.print(a.shape)\n",
    "\n",
    "# Reshape into (3,6)\n",
    "b = tf.reshape(a,[3,6])\n",
    "tf.print(b.shape)\n",
    "\n",
    "# Reshape back to (1,3,3,2), it is reversible\n",
    "c = tf.reshape(b,[1,3,3,2])\n",
    "\n",
    "s = tf.squeeze(c)\n",
    "tf.print(s.shape)\n",
    "\n",
    "d = tf.expand_dims(s,axis=0) # Insert an extra dimension to the 0th dim with length = 1\n",
    "tf.print(d.shape)\n",
    "\n",
    "# use transpose to change image format\n",
    "# Batch,Height,Width,Channel\n",
    "a = tf.random.uniform(shape=[100,600,600,4],minval=0,maxval=255,dtype=tf.int32)\n",
    "tf.print(a.shape)\n",
    "\n",
    "# Transform to the order as Channel,Height,Width,Batch\n",
    "s= tf.transpose(a,perm=[3,1,2,0])\n",
    "tf.print(s.shape)"
   ]
  },
  {
   "cell_type": "markdown",
   "metadata": {},
   "source": [
    "### Combining and Splitting\n",
    "\n",
    "We can use tf.concat and tf.stack methods to combine multiple tensors, and use tf.split to split a tensor into multiple ones, which are similar as those in numpy.\n",
    "\n",
    "tf.concat is slightly different to tf.stack: tf.concat is concatination and does not increase the number of dimensions, while tf.stack is stacking and increases the number of dimensions.\n",
    "\n",
    "tf.split is the inverse of tf.concat. It allows even splitting with given number of portions, or uneven splitting with given size of each portion."
   ]
  },
  {
   "cell_type": "code",
   "execution_count": 37,
   "metadata": {},
   "outputs": [
    {
     "name": "stdout",
     "output_type": "stream",
     "text": [
      "tf.Tensor(\n",
      "[[ 1.  2.]\n",
      " [ 3.  4.]\n",
      " [ 5.  6.]\n",
      " [ 7.  8.]\n",
      " [ 9. 10.]\n",
      " [11. 12.]], shape=(6, 2), dtype=float32)\n",
      "tf.Tensor(\n",
      "[[ 1.  2.  5.  6.  9. 10.]\n",
      " [ 3.  4.  7.  8. 11. 12.]], shape=(2, 6), dtype=float32)\n",
      "tf.Tensor(\n",
      "[[[ 1.  2.]\n",
      "  [ 3.  4.]]\n",
      "\n",
      " [[ 5.  6.]\n",
      "  [ 7.  8.]]\n",
      "\n",
      " [[ 9. 10.]\n",
      "  [11. 12.]]], shape=(3, 2, 2), dtype=float32)\n",
      "tf.Tensor(\n",
      "[[[ 1.  2.]\n",
      "  [ 5.  6.]\n",
      "  [ 9. 10.]]\n",
      "\n",
      " [[ 3.  4.]\n",
      "  [ 7.  8.]\n",
      "  [11. 12.]]], shape=(2, 3, 2), dtype=float32)\n"
     ]
    }
   ],
   "source": [
    "a = tf.constant([[1.0,2.0],[3.0,4.0]])\n",
    "b = tf.constant([[5.0,6.0],[7.0,8.0]])\n",
    "c = tf.constant([[9.0,10.0],[11.0,12.0]])\n",
    "\n",
    "d = tf.concat([a,b,c],axis = 0)\n",
    "print(d)\n",
    "\n",
    "e = tf.concat([a,b,c],axis = 1)\n",
    "print(e)\n",
    "\n",
    "f = tf.stack([a,b,c],axis=0)\n",
    "print(f)\n",
    "\n",
    "g = tf.stack([a,b,c],axis=1)\n",
    "print(g)\n"
   ]
  },
  {
   "cell_type": "markdown",
   "metadata": {},
   "source": [
    "### Splitting\n",
    "\n",
    "tf.split is the inverse of tf.concat. It allows even splitting with given number of portions, or uneven splitting with given size of each portion."
   ]
  },
  {
   "cell_type": "code",
   "execution_count": 40,
   "metadata": {},
   "outputs": [
    {
     "name": "stdout",
     "output_type": "stream",
     "text": [
      "tf.Tensor(\n",
      "[[1. 2.]\n",
      " [3. 4.]], shape=(2, 2), dtype=float32) tf.Tensor(\n",
      "[[5. 6.]\n",
      " [7. 8.]], shape=(2, 2), dtype=float32) tf.Tensor(\n",
      "[[ 9. 10.]\n",
      " [11. 12.]], shape=(2, 2), dtype=float32)\n",
      "tf.Tensor(\n",
      "[[1. 2.]\n",
      " [3. 4.]], shape=(2, 2), dtype=float32) tf.Tensor(\n",
      "[[5. 6.]\n",
      " [7. 8.]], shape=(2, 2), dtype=float32) tf.Tensor(\n",
      "[[ 9. 10.]\n",
      " [11. 12.]], shape=(2, 2), dtype=float32)\n"
     ]
    }
   ],
   "source": [
    "a = tf.constant([[1.0,2.0],[3.0,4.0]])\n",
    "b = tf.constant([[5.0,6.0],[7.0,8.0]])\n",
    "c = tf.constant([[9.0,10.0],[11.0,12.0]])\n",
    "\n",
    "c = tf.concat([a,b,c],axis = 0)\n",
    "\n",
    "#tf.split(value,num_or_size_splits,axis)\n",
    "a1, b1, c1 = tf.split(c,3,axis = 0)  # Even splitting with given number of portions\n",
    "print(a1,b1,c1)\n",
    "a2, b2, c2 = tf.split(c,[2,2,2],axis = 0) # Splitting with given size of each portion.\n",
    "print(a2, b2, c2)"
   ]
  },
  {
   "cell_type": "markdown",
   "metadata": {},
   "source": [
    "## Tensor math\n",
    "### Scalar operations\n",
    "The scalar operation includes add, subtract, multiply, divide, power, and trigonometric functions, exponential functions, log functions, and logical comparison, etc.\n",
    "\n",
    "The scalar operation is an element-by-element operation.\n",
    "\n",
    "Some of the scalar operators are overloaded from the normal mathematical operators and support broadcasting similar as numpy.\n",
    "\n",
    "Most scalar operators are under the module tf.math."
   ]
  },
  {
   "cell_type": "markdown",
   "metadata": {},
   "source": [
    "#### Basic scalar operations"
   ]
  },
  {
   "cell_type": "code",
   "execution_count": 53,
   "metadata": {},
   "outputs": [
    {
     "name": "stdout",
     "output_type": "stream",
     "text": [
      "tf.Tensor(\n",
      "[[ 6.  8.]\n",
      " [ 4. 12.]], shape=(2, 2), dtype=float32)\n",
      "tf.Tensor(\n",
      "[[ -4.  -4.]\n",
      " [-10.  -4.]], shape=(2, 2), dtype=float32)\n",
      "tf.Tensor(\n",
      "[[  5.  12.]\n",
      " [-21.  32.]], shape=(2, 2), dtype=float32)\n",
      "tf.Tensor(\n",
      "[[ 0.2         0.33333334]\n",
      " [-0.42857143  0.5       ]], shape=(2, 2), dtype=float32)\n",
      "tf.Tensor(\n",
      "[[ 1.  4.]\n",
      " [ 9. 16.]], shape=(2, 2), dtype=float32)\n",
      "tf.Tensor(\n",
      "[[1.        1.4142135]\n",
      " [      nan 2.       ]], shape=(2, 2), dtype=float32)\n",
      "tf.Tensor(\n",
      "[[1.        1.4142135]\n",
      " [      nan 2.       ]], shape=(2, 2), dtype=float32)\n",
      "tf.Tensor(\n",
      "[[ 0.  0.]\n",
      " [-1.  1.]], shape=(2, 2), dtype=float32)\n",
      "tf.Tensor(\n",
      "[[ 1.  2.]\n",
      " [-0.  1.]], shape=(2, 2), dtype=float32)\n"
     ]
    }
   ],
   "source": [
    "import tensorflow as tf \n",
    "import numpy as np \n",
    "a = tf.constant([[1.0,2],[-3,4.0]])\n",
    "b = tf.constant([[5.0,6],[7.0,8.0]])\n",
    "print(a+b)  # Operator overloading\n",
    "print(a-b)\n",
    "print(a*b)\n",
    "print(a/b)\n",
    "print(a**2)\n",
    "print(a**0.5)\n",
    "print(tf.math.sqrt(a))\n",
    "print(a//3)\n",
    "print(a%3)"
   ]
  },
  {
   "cell_type": "markdown",
   "metadata": {},
   "source": [
    "#### Boolean tensors"
   ]
  },
  {
   "cell_type": "code",
   "execution_count": 52,
   "metadata": {},
   "outputs": [
    {
     "name": "stdout",
     "output_type": "stream",
     "text": [
      "tf.Tensor(\n",
      "[[False  True]\n",
      " [False False]], shape=(2, 2), dtype=bool)\n",
      "tf.Tensor(\n",
      "[[False False]\n",
      " [False  True]], shape=(2, 2), dtype=bool)\n",
      "tf.Tensor(\n",
      "[[False  True]\n",
      " [False False]], shape=(2, 2), dtype=bool)\n",
      "tf.Tensor(\n",
      "[[ True  True]\n",
      " [ True  True]], shape=(2, 2), dtype=bool)\n"
     ]
    }
   ],
   "source": [
    "a = tf.constant([[1.0,2],[-3,4.0]])\n",
    "b = tf.constant([[5.0,6],[7.0,8.0]])\n",
    "\n",
    "print(a==2)\n",
    "print(a>2) # produce bool tensor\n",
    "print((a>=2)&(a<=3))\n",
    "print((a>=2)|(a<=3))"
   ]
  },
  {
   "cell_type": "markdown",
   "metadata": {},
   "source": [
    "#### max, min, clip"
   ]
  },
  {
   "cell_type": "code",
   "execution_count": 56,
   "metadata": {},
   "outputs": [
    {
     "name": "stdout",
     "output_type": "stream",
     "text": [
      "tf.Tensor(\n",
      "[[5. 6.]\n",
      " [7. 8.]], shape=(2, 2), dtype=float32)\n",
      "tf.Tensor(\n",
      "[[ 1.  2.]\n",
      " [-3.  4.]], shape=(2, 2), dtype=float32)\n",
      "tf.Tensor([ 0.9 -0.8  1.  -1.   0.7], shape=(5,), dtype=float32)\n",
      "tf.Tensor([ 0.02647321 -0.02353174  2.9414675  -0.5882935   0.02059027], shape=(5,), dtype=float32)\n"
     ]
    }
   ],
   "source": [
    "a = tf.constant([[1.0,2],[-3,4.0]])\n",
    "b = tf.constant([[5.0,6],[7.0,8.0]])\n",
    "print(tf.math.maximum(a, b))\n",
    "print(tf.math.minimum(a, b))\n",
    "\n",
    "# clip value\n",
    "x = tf.constant([0.9,-0.8,100.0,-20.0,0.7])\n",
    "y = tf.clip_by_value(x,clip_value_min=-1,clip_value_max=1)\n",
    "z = tf.clip_by_norm(x,clip_norm = 3)\n",
    "print(y)\n",
    "print(z)\n"
   ]
  },
  {
   "cell_type": "markdown",
   "metadata": {},
   "source": [
    "### Vector operations\n",
    "Vector operation manipulate along one specific axis. It projects one vector to a scalar or another vector. Many names of vector operator starts with \"reduce\"."
   ]
  },
  {
   "cell_type": "code",
   "execution_count": null,
   "metadata": {},
   "outputs": [],
   "source": []
  },
  {
   "cell_type": "markdown",
   "metadata": {},
   "source": [
    "## AutoDiff"
   ]
  },
  {
   "cell_type": "markdown",
   "metadata": {},
   "source": [
    "### Calculation of gradient"
   ]
  },
  {
   "cell_type": "code",
   "execution_count": 9,
   "metadata": {},
   "outputs": [
    {
     "name": "stdout",
     "output_type": "stream",
     "text": [
      "tf.Tensor(1.0, shape=(), dtype=float32)\n",
      "<tf.Variable 'x:0' shape=() dtype=float32, numpy=0.0>\n",
      "tf.Tensor(-2.0, shape=(), dtype=float32)\n",
      "tf.Tensor(0.0, shape=(), dtype=float32)\n",
      "tf.Tensor(1.0, shape=(), dtype=float32)\n",
      "tf.Tensor(2.0, shape=(), dtype=float32)\n"
     ]
    }
   ],
   "source": [
    "import tensorflow as tf\n",
    "# Calculate the derivative of f(x) = a*x**2 + b*x + c\n",
    "x = tf.Variable(0.0, name='x', dtype=tf.float32)\n",
    "a = tf.constant(1.0)\n",
    "b = tf.constant(-2.0)\n",
    "c = tf.constant(1.0)\n",
    "\n",
    "with tf.GradientTape() as tape:\n",
    "    y = a * tf.pow(x, 2) + b * x + c\n",
    "# gradient at x = 0\n",
    "print(y)\n",
    "print(x)\n",
    "dy_dx = tape.gradient(y, x)\n",
    "print(dy_dx)\n",
    "\n",
    "# Use watch to calculate derivatives of the constant tensor\n",
    "with tf.GradientTape() as tape:\n",
    "    tape.watch([a, b, c])\n",
    "    y = a * tf.pow(x, 2) + b * x + c\n",
    "# gradient with respect to multiple variables\n",
    "dy_dx, dy_da, dy_db, dy_dc = tape.gradient(y, [x, a, b, c])\n",
    "print(dy_da)\n",
    "print(dy_dc)\n",
    "\n",
    "# Calculate the second order derivative\n",
    "with tf.GradientTape() as tape2:\n",
    "    with tf.GradientTape() as tape1:\n",
    "        y = a * tf.pow(x, 2) + b * x + c\n",
    "    dy_dx = tape1.gradient(y, x)\n",
    "dy2_dx2 = tape2.gradient(dy_dx, x)\n",
    "print(dy2_dx2)"
   ]
  },
  {
   "cell_type": "markdown",
   "metadata": {},
   "source": [
    "### Gradient descent example"
   ]
  },
  {
   "cell_type": "code",
   "execution_count": 12,
   "metadata": {},
   "outputs": [
    {
     "name": "stdout",
     "output_type": "stream",
     "text": [
      "y =  0 ; x =  0.999998569\r\n"
     ]
    }
   ],
   "source": [
    "### Calculate the minimal value through the gradient tape and optimizer\n",
    "from tensorflow import keras\n",
    "x = tf.Variable(0.0, name='x', dtype=tf.float32)\n",
    "a = tf.constant(1.0)\n",
    "b = tf.constant(-2.0)\n",
    "c = tf.constant(1.0)\n",
    "\n",
    "optimizer = tf.keras.optimizers.SGD(learning_rate = 0.01)\n",
    "for _ in range(1000):\n",
    "    with tf.GradientTape() as tape:\n",
    "        y = a*tf.pow(x,2) + b*x + c\n",
    "    dy_dx = tape.gradient(y, x)\n",
    "    optimizer.apply_gradients(grads_and_vars=[(dy_dx,x)])\n",
    "\n",
    "tf.print('y = ', y, '; x = ', x)"
   ]
  },
  {
   "cell_type": "markdown",
   "metadata": {},
   "source": [
    "### Gradient descent example (KL divergence example)"
   ]
  },
  {
   "cell_type": "code",
   "execution_count": 21,
   "metadata": {},
   "outputs": [
    {
     "name": "stdout",
     "output_type": "stream",
     "text": [
      "tf.Tensor(1124.9994, shape=(), dtype=float32)\n"
     ]
    },
    {
     "data": {
      "text/plain": [
       "Text(0, 0.5, '$p, q$')"
      ]
     },
     "execution_count": 21,
     "metadata": {},
     "output_type": "execute_result"
    },
    {
     "data": {
      "image/png": "[encoded data removed]",
      "text/plain": [
       "<Figure size 504x504 with 1 Axes>"
      ]
     },
     "metadata": {
      "needs_background": "light"
     },
     "output_type": "display_data"
    }
   ],
   "source": [
    "import numpy as np\n",
    "import matplotlib.pyplot as plt\n",
    "from scipy.stats import norm\n",
    "import seaborn as sns\n",
    "import tensorflow as tf\n",
    "\n",
    "def KLDivergence(p, q):\n",
    "    return np.sum(np.where(p != 0, p * np.log(p / q), 0.0))\n",
    "\n",
    "x = np.arange(-10, 10, 0.001)\n",
    "p = norm.pdf(x, 0, 2)\n",
    "\n",
    "plt.figure(1, figsize=(7, 7))\n",
    "mu = tf.Variable(3.0)\n",
    "sigma = tf.Variable(2.0)\n",
    "def KL_loss():\n",
    "   q = tf.math.exp(-tf.square(x - mu) / (2 * sigma * sigma)) / np.sqrt(2 * np.pi) / sigma\n",
    "#   q = normal / tf.reduce_sum(normal)\n",
    "   zeros = tf.zeros_like(q)\n",
    "   temp = tf.where(p == 0, zeros, p * tf.math.log(p / q))\n",
    "   loss = tf.reduce_sum(temp)\n",
    "   return loss\n",
    "\n",
    "print(KL_loss())\n",
    "\n",
    "opt = tf.keras.optimizers.Adam(learning_rate=0.1)\n",
    "\n",
    "plt.plot(x, p, c='black', label=r'$p$, target')\n",
    "for i in range(100):\n",
    "    opt.minimize(KL_loss, var_list=[mu, sigma])\n",
    "q = norm.pdf(x, mu.numpy(), sigma.numpy())\n",
    "plt.plot(x, q, '--', label=f'$q$, iter={i + 1}')\n",
    "plt.legend(fontsize=18)\n",
    "plt.xlabel(r'$x$')\n",
    "plt.ylabel(r'$p, q$')\n"
   ]
  },
  {
   "cell_type": "markdown",
   "metadata": {},
   "source": [
    "# Layers"
   ]
  },
  {
   "cell_type": "markdown",
   "metadata": {},
   "source": [
    "# Networks and model construction\n",
    "\n",
    "There are three ways of modeling: \n",
    "\n",
    "- using Sequential to construct model with the order of layers, \n",
    "- using functional APIs to construct model with arbitrary structure,\n",
    "- using child class inheriting from the base class Model.\n",
    "\n",
    "For the models with sequenced structure, Sequential method should be given the highest priority.\n",
    "\n",
    "For the models with nonsequenced structures such as multiple input/output, shared weights, or residual connections, modeling with functional API is recommended.\n",
    "\n",
    "Modeling through child class of Model should be AVOIDED unless with special requirements. This method is flexible, but is also error-prone.\n",
    "\n",
    "Here are the examples of modeling using the three above-mentioned methods to classify IMDB movie reviews.\n",
    "\n"
   ]
  },
  {
   "cell_type": "code",
   "execution_count": 57,
   "metadata": {},
   "outputs": [],
   "source": [
    "import numpy as np \n",
    "import pandas as pd \n",
    "import tensorflow as tf\n",
    "from tqdm import tqdm \n",
    "from tensorflow.keras import *\n",
    "\n",
    "\n",
    "train_token_path = \"../data/imdb/train_token.csv\"\n",
    "test_token_path = \"../data/imdb/test_token.csv\"\n",
    "\n",
    "MAX_WORDS = 10000  # We will only consider the top 10,000 words in the dataset\n",
    "MAX_LEN = 200  # We will cut reviews after 200 words\n",
    "BATCH_SIZE = 20 \n",
    "\n",
    "# Constructing data pipeline\n",
    "def parse_line(line):\n",
    "    t = tf.strings.split(line,\"\\t\")\n",
    "    label = tf.reshape(tf.cast(tf.strings.to_number(t[0]),tf.int32),(-1,))\n",
    "    features = tf.cast(tf.strings.to_number(tf.strings.split(t[1],\" \")),tf.int32)\n",
    "    return (features,label)\n",
    "\n",
    "ds_train=  tf.data.TextLineDataset(filenames = [train_token_path]) \\\n",
    "   .map(parse_line,num_parallel_calls = tf.data.experimental.AUTOTUNE) \\\n",
    "   .shuffle(buffer_size = 1000).batch(BATCH_SIZE) \\\n",
    "   .prefetch(tf.data.experimental.AUTOTUNE)\n",
    "\n",
    "ds_test=  tf.data.TextLineDataset(filenames = [test_token_path]) \\\n",
    "   .map(parse_line,num_parallel_calls = tf.data.experimental.AUTOTUNE) \\\n",
    "   .shuffle(buffer_size = 1000).batch(BATCH_SIZE) \\\n",
    "   .prefetch(tf.data.experimental.AUTOTUNE)"
   ]
  },
  {
   "cell_type": "code",
   "execution_count": null,
   "metadata": {},
   "outputs": [],
   "source": []
  },
  {
   "cell_type": "markdown",
   "metadata": {},
   "source": [
    "# Loss"
   ]
  },
  {
   "cell_type": "markdown",
   "metadata": {},
   "source": [
    "# Training and testing"
   ]
  },
  {
   "cell_type": "markdown",
   "metadata": {},
   "source": [
    "## Learning rate schedules\n",
    "\n",
    "https://towardsdatascience.com/learning-rate-schedule-in-practice-an-example-with-keras-and-tensorflow-2-0-2f48b2888a0c"
   ]
  },
  {
   "cell_type": "markdown",
   "metadata": {},
   "source": [
    "# TENSORBOARD\n",
    "\n",
    "https://www.tensorflow.org/tensorboard/get_started?hl=zh-cn"
   ]
  },
  {
   "cell_type": "code",
   "execution_count": 2,
   "metadata": {},
   "outputs": [],
   "source": [
    "import tensorflow as tf\n",
    "import datetime\n",
    "\n",
    "mnist = tf.keras.datasets.mnist"
   ]
  },
  {
   "cell_type": "code",
   "execution_count": 3,
   "metadata": {},
   "outputs": [
    {
     "ename": "NameError",
     "evalue": "name 'model' is not defined",
     "output_type": "error",
     "traceback": [
      "\u001b[1;31m---------------------------------------------------------------------------\u001b[0m",
      "\u001b[1;31mNameError\u001b[0m                                 Traceback (most recent call last)",
      "\u001b[1;32m<ipython-input-3-bd814e23057e>\u001b[0m in \u001b[0;36m<module>\u001b[1;34m\u001b[0m\n\u001b[0;32m     56\u001b[0m \u001b[1;32mfor\u001b[0m \u001b[0mepoch\u001b[0m \u001b[1;32min\u001b[0m \u001b[0mrange\u001b[0m\u001b[1;33m(\u001b[0m\u001b[0mEPOCHS\u001b[0m\u001b[1;33m)\u001b[0m\u001b[1;33m:\u001b[0m\u001b[1;33m\u001b[0m\u001b[1;33m\u001b[0m\u001b[0m\n\u001b[0;32m     57\u001b[0m     \u001b[1;32mfor\u001b[0m \u001b[1;33m(\u001b[0m\u001b[0mx_train\u001b[0m\u001b[1;33m,\u001b[0m \u001b[0my_train\u001b[0m\u001b[1;33m)\u001b[0m \u001b[1;32min\u001b[0m \u001b[0mtrain_dataset\u001b[0m\u001b[1;33m:\u001b[0m\u001b[1;33m\u001b[0m\u001b[1;33m\u001b[0m\u001b[0m\n\u001b[1;32m---> 58\u001b[1;33m         \u001b[0mtrain_step\u001b[0m\u001b[1;33m(\u001b[0m\u001b[0mmodel\u001b[0m\u001b[1;33m,\u001b[0m \u001b[0moptimizer\u001b[0m\u001b[1;33m,\u001b[0m \u001b[0mx_train\u001b[0m\u001b[1;33m,\u001b[0m \u001b[0my_train\u001b[0m\u001b[1;33m)\u001b[0m\u001b[1;33m\u001b[0m\u001b[1;33m\u001b[0m\u001b[0m\n\u001b[0m\u001b[0;32m     59\u001b[0m     \u001b[1;32mwith\u001b[0m \u001b[0mtrain_summary_writer\u001b[0m\u001b[1;33m.\u001b[0m\u001b[0mas_default\u001b[0m\u001b[1;33m(\u001b[0m\u001b[1;33m)\u001b[0m\u001b[1;33m:\u001b[0m\u001b[1;33m\u001b[0m\u001b[1;33m\u001b[0m\u001b[0m\n\u001b[0;32m     60\u001b[0m         \u001b[0mtf\u001b[0m\u001b[1;33m.\u001b[0m\u001b[0msummary\u001b[0m\u001b[1;33m.\u001b[0m\u001b[0mscalar\u001b[0m\u001b[1;33m(\u001b[0m\u001b[1;34m'loss'\u001b[0m\u001b[1;33m,\u001b[0m \u001b[0mtrain_loss\u001b[0m\u001b[1;33m.\u001b[0m\u001b[0mresult\u001b[0m\u001b[1;33m(\u001b[0m\u001b[1;33m)\u001b[0m\u001b[1;33m,\u001b[0m \u001b[0mstep\u001b[0m\u001b[1;33m=\u001b[0m\u001b[0mepoch\u001b[0m\u001b[1;33m)\u001b[0m\u001b[1;33m\u001b[0m\u001b[1;33m\u001b[0m\u001b[0m\n",
      "\u001b[1;31mNameError\u001b[0m: name 'model' is not defined"
     ]
    }
   ],
   "source": [
    "import tensorflow as tf\n",
    "import datetime\n",
    "\n",
    "mnist = tf.keras.datasets.mnist\n",
    "(x_train, y_train),(x_test, y_test) = mnist.load_data()\n",
    "x_train, x_test = x_train / 255.0, x_test / 255.0\n",
    "\n",
    "def create_model():\n",
    "      return tf.keras.models.Sequential([\n",
    "        tf.keras.layers.Flatten(input_shape=(28, 28)),\n",
    "        tf.keras.layers.Dense(512, activation='relu'),\n",
    "        tf.keras.layers.Dropout(0.2),\n",
    "        tf.keras.layers.Dense(10, activation='softmax')\n",
    "      ])\n",
    "\n",
    "\n",
    "train_dataset = tf.data.Dataset.from_tensor_slices((x_train, y_train))\n",
    "test_dataset = tf.data.Dataset.from_tensor_slices((x_test, y_test))\n",
    "\n",
    "train_dataset = train_dataset.shuffle(60000).batch(64)\n",
    "test_dataset = test_dataset.batch(64)\n",
    "\n",
    "\n",
    "loss_object = tf.keras.losses.SparseCategoricalCrossentropy()\n",
    "optimizer = tf.keras.optimizers.Adam()\n",
    "\n",
    "\n",
    "# Define our metrics\n",
    "train_loss = tf.keras.metrics.Mean('train_loss', dtype=tf.float32)\n",
    "train_accuracy = tf.keras.metrics.SparseCategoricalAccuracy('train_accuracy')\n",
    "test_loss = tf.keras.metrics.Mean('test_loss', dtype=tf.float32)\n",
    "test_accuracy = tf.keras.metrics.SparseCategoricalAccuracy('test_accuracy')\n",
    "\n",
    "\n",
    "def train_step(model, optimizer, x_train, y_train):\n",
    "    with tf.GradientTape() as tape:\n",
    "        predictions = model(x_train, training=True)\n",
    "        loss = loss_object(y_train, predictions)\n",
    "    grads = tape.gradient(loss, model.trainable_variables)\n",
    "    optimizer.apply_gradients(zip(grads, model.trainable_variables))\n",
    "\n",
    "    train_loss(loss)\n",
    "    train_accuracy(y_train, predictions)\n",
    "\n",
    "def test_step(model, x_test, y_test):\n",
    "    predictions = model(x_test)\n",
    "    loss = loss_object(y_test, predictions)\n",
    "\n",
    "    test_loss(loss)\n",
    "    test_accuracy(y_test, predictions)\n",
    "    \n",
    "    model = create_model() # reset our model\n",
    "\n",
    "EPOCHS = 5\n",
    "\n",
    "for epoch in range(EPOCHS):\n",
    "    for (x_train, y_train) in train_dataset:\n",
    "        train_step(model, optimizer, x_train, y_train)\n",
    "    with train_summary_writer.as_default():\n",
    "        tf.summary.scalar('loss', train_loss.result(), step=epoch)\n",
    "        tf.summary.scalar('accuracy', train_accuracy.result(), step=epoch)\n",
    "\n",
    "    for (x_test, y_test) in test_dataset:\n",
    "        test_step(model, x_test, y_test)\n",
    "    with test_summary_writer.as_default():\n",
    "        tf.summary.scalar('loss', test_loss.result(), step=epoch)\n",
    "    tf.summary.scalar('accuracy', test_accuracy.result(), step=epoch)\n",
    "  \n",
    "    template = 'Epoch {}, Loss: {}, Accuracy: {}, Test Loss: {}, Test Accuracy: {}'\n",
    "    print (template.format(epoch+1,\n",
    "                         train_loss.result(), \n",
    "                         train_accuracy.result()*100,\n",
    "                         test_loss.result(), \n",
    "                         test_accuracy.result()*100))\n",
    "\n",
    "    # Reset metrics every epoch\n",
    "    train_loss.reset_states()\n",
    "    test_loss.reset_states()\n",
    "    train_accuracy.reset_states()\n",
    "    test_accuracy.reset_states()"
   ]
  }
 ],
 "metadata": {
  "kernelspec": {
   "display_name": "Python 3",
   "language": "python",
   "name": "python3"
  },
  "language_info": {
   "codemirror_mode": {
    "name": "ipython",
    "version": 3
   },
   "file_extension": ".py",
   "mimetype": "text/x-python",
   "name": "python",
   "nbconvert_exporter": "python",
   "pygments_lexer": "ipython3",
   "version": "3.7.4"
  },
  "toc": {
   "base_numbering": 1,
   "nav_menu": {},
   "number_sections": true,
   "sideBar": true,
   "skip_h1_title": false,
   "title_cell": "Table of Contents",
   "title_sidebar": "Contents",
   "toc_cell": true,
   "toc_position": {},
   "toc_section_display": true,
   "toc_window_display": true
  }
 },
 "nbformat": 4,
 "nbformat_minor": 2
}
