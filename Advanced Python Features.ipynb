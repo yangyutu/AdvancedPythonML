{
 "cells": [
  {
   "cell_type": "markdown",
   "metadata": {
    "toc": true
   },
   "source": [
    "<h1>Table of Contents<span class=\"tocSkip\"></span></h1>\n",
    "<div class=\"toc\"><ul class=\"toc-item\"></ul></div>"
   ]
  },
  {
   "cell_type": "markdown",
   "metadata": {},
   "source": [
    "## Python f-string"
   ]
  },
  {
   "cell_type": "code",
   "execution_count": 1,
   "metadata": {},
   "outputs": [
    {
     "name": "stdout",
     "output_type": "stream",
     "text": [
      "name = Huahua, score = 123.456789\n",
      "name = Huahua, score = 123.457\n",
      "name = Huahua, score = 123.457\n",
      "name = Huahua, score = 123.457\n"
     ]
    }
   ],
   "source": [
    "name = 'Huahua'\n",
    "score = 123.456789\n",
    "\n",
    "print('name = ' + name + ', score = ' + str(score))\n",
    "print('name = %s, score = %.3f' % (name, score))\n",
    "print('name = {name}, score = {score:.3f}'.format(name=name, score = score))\n",
    "\n",
    "# apply fstring\n",
    "print(f'name = {name}, score = {score:.3f}')\n"
   ]
  },
  {
   "cell_type": "markdown",
   "metadata": {},
   "source": [
    "## Itertools"
   ]
  },
  {
   "cell_type": "markdown",
   "metadata": {},
   "source": [
    "### Product and permutation"
   ]
  },
  {
   "cell_type": "code",
   "execution_count": null,
   "metadata": {},
   "outputs": [],
   "source": [
    "import itertools\n",
    "\n",
    "\n",
    "A= [1, 2, 3]\n",
    "B = [3, 4, 5]\n",
    "\n",
    "for i, j in itertools.product(A, B):\n",
    "    print(i, j)\n",
    "    \n",
    "# 1 3\n",
    "# 1 4\n",
    "# 1 5\n",
    "# 2 3\n",
    "# 2 4\n",
    "# 2 5\n",
    "# 3 3\n",
    "# 3 4\n",
    "# 3 5 \n",
    "\n",
    "for e in itertools.permutations(A):\n",
    "    print(e)\n",
    "    \n",
    "# (1, 2, 3)\n",
    "# (1, 3, 2)\n",
    "# (2, 1, 3)\n",
    "# (2, 3, 1)\n",
    "# (3, 1, 2)\n",
    "# (3, 2, 1)"
   ]
  },
  {
   "cell_type": "markdown",
   "metadata": {},
   "source": [
    "## Decorators"
   ]
  },
  {
   "cell_type": "code",
   "execution_count": 3,
   "metadata": {},
   "outputs": [
    {
     "name": "stdout",
     "output_type": "stream",
     "text": [
      "Before\n",
      "Foo!\n",
      "End\n"
     ]
    }
   ],
   "source": [
    "def foo():\n",
    "    print('Foo!')\n",
    "def bar(func):\n",
    "    print('Before')\n",
    "    func()\n",
    "    print('End')\n",
    "\n",
    "bar(foo)"
   ]
  },
  {
   "cell_type": "code",
   "execution_count": 4,
   "metadata": {},
   "outputs": [
    {
     "name": "stdout",
     "output_type": "stream",
     "text": [
      "Before\n",
      "Foo!\n",
      "End\n"
     ]
    }
   ],
   "source": [
    "def foo():\n",
    "    print('Foo!')\n",
    "\n",
    "def bar(func):\n",
    "    def inner():\n",
    "        print('Before')\n",
    "        func()\n",
    "        print('End')\n",
    "    return inner  # return a function!!\n",
    "bar(foo)() # call the return function!!"
   ]
  },
  {
   "cell_type": "code",
   "execution_count": 5,
   "metadata": {},
   "outputs": [
    {
     "name": "stdout",
     "output_type": "stream",
     "text": [
      "Before\n",
      "Foo!\n",
      "End\n"
     ]
    }
   ],
   "source": [
    "def bar(func):\n",
    "    def inner():\n",
    "        print('Before')\n",
    "        func()\n",
    "        print('End')\n",
    "    return inner\n",
    "@bar        \n",
    "def foo():\n",
    "    print('Foo!')\n",
    "    \n",
    "foo()"
   ]
  },
  {
   "cell_type": "code",
   "execution_count": 6,
   "metadata": {},
   "outputs": [
    {
     "name": "stdout",
     "output_type": "stream",
     "text": [
      "bar: Before\n",
      "baz: Before\n",
      "Foo!\n",
      "baz: End\n",
      "bar: End\n"
     ]
    }
   ],
   "source": [
    "def bar(func):\n",
    "    def inner():\n",
    "        print('bar: Before')\n",
    "        func()\n",
    "        print('bar: End')\n",
    "    return inner\n",
    "\n",
    "def baz(func):\n",
    "    def inner():\n",
    "        print('baz: Before')\n",
    "        func()\n",
    "        print('baz: End')\n",
    "    return inner\n",
    "# decorator can be multiple\n",
    "@bar        \n",
    "@baz\n",
    "def foo():\n",
    "    print('Foo!')\n",
    "foo()"
   ]
  },
  {
   "cell_type": "code",
   "execution_count": 7,
   "metadata": {},
   "outputs": [
    {
     "name": "stdout",
     "output_type": "stream",
     "text": [
      "Done!\n",
      "test_method finished in 2.000577926635742 secs.\n"
     ]
    }
   ],
   "source": [
    "# a timing appliation \n",
    "\n",
    "import time\n",
    "\n",
    "def timeit(func):\n",
    "    def inner():\n",
    "        s = time.time()\n",
    "        func()\n",
    "        e = time.time()\n",
    "        print(f'{func.__name__} finished in {e - s} secs.')\n",
    "    return inner\n",
    "@timeit\n",
    "def test_method():\n",
    "    time.sleep(2)\n",
    "    print('Done!')\n",
    "    \n",
    "test_method()"
   ]
  },
  {
   "cell_type": "code",
   "execution_count": 2,
   "metadata": {},
   "outputs": [
    {
     "name": "stdout",
     "output_type": "stream",
     "text": [
      "In MyCache __init__ fib\n",
      "573147844013817084101\n",
      "fib2 finished in 0.0 secs.\n",
      "None\n"
     ]
    }
   ],
   "source": [
    "# decorator for function cache\n",
    "\n",
    "class MyCache(object):\n",
    "    def __init__(self, func):\n",
    "        self.func = func\n",
    "        self.cache = {}\n",
    "        print(f'In MyCache __init__ {func.__name__}')\n",
    "    def __call__(self, *args):\n",
    "        if not args in self.cache:\n",
    "            self.cache[args] = self.func(*args)\n",
    "        return self.cache[args]\n",
    "\n",
    "import time\n",
    "def timeit(func, *args):\n",
    "    def inner(*args):\n",
    "        s = time.time()\n",
    "        func(*args)\n",
    "        e = time.time()\n",
    "        print(f'{func.__name__} finished in {e - s} secs.')\n",
    "    return inner\n",
    "\n",
    "\n",
    "@MyCache\n",
    "def fib(n):\n",
    "    if n <= 1: return 1\n",
    "    return fib(n - 1) + fib(n - 2)\n",
    "\n",
    "@timeit\n",
    "def fib2(n):\n",
    "    if n <= 1: return 1\n",
    "    return fib(n - 1) + fib(n - 2)\n",
    "\n",
    "print(fib(100))\n",
    "print(fib2(100))"
   ]
  },
  {
   "cell_type": "code",
   "execution_count": null,
   "metadata": {},
   "outputs": [],
   "source": []
  }
 ],
 "metadata": {
  "kernelspec": {
   "display_name": "Python 3",
   "language": "python",
   "name": "python3"
  },
  "language_info": {
   "codemirror_mode": {
    "name": "ipython",
    "version": 3
   },
   "file_extension": ".py",
   "mimetype": "text/x-python",
   "name": "python",
   "nbconvert_exporter": "python",
   "pygments_lexer": "ipython3",
   "version": "3.7.4"
  },
  "toc": {
   "base_numbering": 1,
   "nav_menu": {},
   "number_sections": true,
   "sideBar": true,
   "skip_h1_title": false,
   "title_cell": "Table of Contents",
   "title_sidebar": "Contents",
   "toc_cell": true,
   "toc_position": {},
   "toc_section_display": true,
   "toc_window_display": true
  }
 },
 "nbformat": 4,
 "nbformat_minor": 2
}
